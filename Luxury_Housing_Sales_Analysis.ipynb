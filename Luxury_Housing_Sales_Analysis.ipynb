{
  "nbformat": 4,
  "nbformat_minor": 0,
  "metadata": {
    "colab": {
      "provenance": [],
      "authorship_tag": "ABX9TyPzrlDjl8kq4zBkZcxsuJny",
      "include_colab_link": true
    },
    "kernelspec": {
      "name": "python3",
      "display_name": "Python 3"
    },
    "language_info": {
      "name": "python"
    }
  },
  "cells": [
    {
      "cell_type": "markdown",
      "metadata": {
        "id": "view-in-github",
        "colab_type": "text"
      },
      "source": [
        "<a href=\"https://colab.research.google.com/github/Keerthana-Mathaiyan/Luxury-Housing-Sales-Analysis/blob/master/Luxury_Housing_Sales_Analysis.ipynb\" target=\"_parent\"><img src=\"https://colab.research.google.com/assets/colab-badge.svg\" alt=\"Open In Colab\"/></a>"
      ]
    },
    {
      "cell_type": "code",
      "execution_count": 1,
      "metadata": {
        "colab": {
          "base_uri": "https://localhost:8080/"
        },
        "id": "kBOxFtuf0m-L",
        "outputId": "68b10969-2623-41c4-e153-2fe644a17220"
      },
      "outputs": [
        {
          "output_type": "stream",
          "name": "stdout",
          "text": [
            "Import Dictionary successful\n"
          ]
        }
      ],
      "source": [
        "import os\n",
        "import pandas as pd\n",
        "import numpy as np\n",
        "import matplotlib.pyplot as plt\n",
        "\n",
        "\n",
        "print(\"Import Dictionary successful\")"
      ]
    },
    {
      "cell_type": "code",
      "source": [
        "df=pd.read_csv('/content/Luxury_Housing_Bangalore.csv')\n",
        "print(df.info())"
      ],
      "metadata": {
        "colab": {
          "base_uri": "https://localhost:8080/"
        },
        "id": "U9rIEu-L14PK",
        "outputId": "bf0779ff-9f19-4da6-d425-4f09f0400327"
      },
      "execution_count": 2,
      "outputs": [
        {
          "output_type": "stream",
          "name": "stdout",
          "text": [
            "<class 'pandas.core.frame.DataFrame'>\n",
            "RangeIndex: 101000 entries, 0 to 100999\n",
            "Data columns (total 18 columns):\n",
            " #   Column                Non-Null Count   Dtype  \n",
            "---  ------                --------------   -----  \n",
            " 0   Property_ID           101000 non-null  object \n",
            " 1   Micro_Market          101000 non-null  object \n",
            " 2   Project_Name          101000 non-null  object \n",
            " 3   Developer_Name        101000 non-null  object \n",
            " 4   Unit_Size_Sqft        90954 non-null   float64\n",
            " 5   Configuration         101000 non-null  object \n",
            " 6   Ticket_Price_Cr       90981 non-null   object \n",
            " 7   Transaction_Type      101000 non-null  object \n",
            " 8   Buyer_Type            101000 non-null  object \n",
            " 9   Purchase_Quarter      101000 non-null  object \n",
            " 10  Connectivity_Score    101000 non-null  float64\n",
            " 11  Amenity_Score         90910 non-null   float64\n",
            " 12  Possession_Status     101000 non-null  object \n",
            " 13  Sales_Channel         101000 non-null  object \n",
            " 14  NRI_Buyer             101000 non-null  object \n",
            " 15  Locality_Infra_Score  101000 non-null  float64\n",
            " 16  Avg_Traffic_Time_Min  101000 non-null  int64  \n",
            " 17  Buyer_Comments        82713 non-null   object \n",
            "dtypes: float64(4), int64(1), object(13)\n",
            "memory usage: 13.9+ MB\n",
            "None\n"
          ]
        }
      ]
    },
    {
      "cell_type": "code",
      "source": [
        "print(df.columns)"
      ],
      "metadata": {
        "colab": {
          "base_uri": "https://localhost:8080/"
        },
        "id": "BZKnJTi-2T1j",
        "outputId": "95ba99d6-630f-4207-98de-fa0d9f275f5d"
      },
      "execution_count": 3,
      "outputs": [
        {
          "output_type": "stream",
          "name": "stdout",
          "text": [
            "Index(['Property_ID', 'Micro_Market', 'Project_Name', 'Developer_Name',\n",
            "       'Unit_Size_Sqft', 'Configuration', 'Ticket_Price_Cr',\n",
            "       'Transaction_Type', 'Buyer_Type', 'Purchase_Quarter',\n",
            "       'Connectivity_Score', 'Amenity_Score', 'Possession_Status',\n",
            "       'Sales_Channel', 'NRI_Buyer', 'Locality_Infra_Score',\n",
            "       'Avg_Traffic_Time_Min', 'Buyer_Comments'],\n",
            "      dtype='object')\n"
          ]
        }
      ]
    },
    {
      "cell_type": "code",
      "source": [
        "print(df.isnull().sum())"
      ],
      "metadata": {
        "colab": {
          "base_uri": "https://localhost:8080/"
        },
        "id": "2w-FX-jz2ZRj",
        "outputId": "c8ea5cd7-3a21-40ee-df25-478cda4ab082"
      },
      "execution_count": 4,
      "outputs": [
        {
          "output_type": "stream",
          "name": "stdout",
          "text": [
            "Property_ID                 0\n",
            "Micro_Market                0\n",
            "Project_Name                0\n",
            "Developer_Name              0\n",
            "Unit_Size_Sqft          10046\n",
            "Configuration               0\n",
            "Ticket_Price_Cr         10019\n",
            "Transaction_Type            0\n",
            "Buyer_Type                  0\n",
            "Purchase_Quarter            0\n",
            "Connectivity_Score          0\n",
            "Amenity_Score           10090\n",
            "Possession_Status           0\n",
            "Sales_Channel               0\n",
            "NRI_Buyer                   0\n",
            "Locality_Infra_Score        0\n",
            "Avg_Traffic_Time_Min        0\n",
            "Buyer_Comments          18287\n",
            "dtype: int64\n"
          ]
        }
      ]
    },
    {
      "cell_type": "code",
      "source": [
        "df['Micro_Market']=df['Micro_Market'].str.title().str.strip()\n",
        "print(df['Micro_Market'])\n",
        "print('title case changed and space removed from Micro_Market column')"
      ],
      "metadata": {
        "colab": {
          "base_uri": "https://localhost:8080/"
        },
        "id": "AGtinOxE2x1h",
        "outputId": "8ded1c27-75d6-4d26-ae5d-41aa6fd19dc0"
      },
      "execution_count": 5,
      "outputs": [
        {
          "output_type": "stream",
          "name": "stdout",
          "text": [
            "0             Sarjapur Road\n",
            "1               Indiranagar\n",
            "2         Bannerghatta Road\n",
            "3              Bellary Road\n",
            "4               Koramangala\n",
            "                ...        \n",
            "100995         Bellary Road\n",
            "100996         Bellary Road\n",
            "100997          Hennur Road\n",
            "100998          Rajajinagar\n",
            "100999           Whitefield\n",
            "Name: Micro_Market, Length: 101000, dtype: object\n",
            "title case changed and space removed from Micro_Market column\n"
          ]
        }
      ]
    },
    {
      "cell_type": "code",
      "source": [
        "#====================================renaming developer_name to Builder ======================\n",
        "\n",
        "\n",
        "df.rename(columns={'Developer_Name':'Builder'},inplace=True)\n",
        "print(df.columns)"
      ],
      "metadata": {
        "colab": {
          "base_uri": "https://localhost:8080/"
        },
        "id": "wOR-rXe43kgV",
        "outputId": "eec9145b-3558-4736-8d55-f675249ded7a"
      },
      "execution_count": 6,
      "outputs": [
        {
          "output_type": "stream",
          "name": "stdout",
          "text": [
            "Index(['Property_ID', 'Micro_Market', 'Project_Name', 'Builder',\n",
            "       'Unit_Size_Sqft', 'Configuration', 'Ticket_Price_Cr',\n",
            "       'Transaction_Type', 'Buyer_Type', 'Purchase_Quarter',\n",
            "       'Connectivity_Score', 'Amenity_Score', 'Possession_Status',\n",
            "       'Sales_Channel', 'NRI_Buyer', 'Locality_Infra_Score',\n",
            "       'Avg_Traffic_Time_Min', 'Buyer_Comments'],\n",
            "      dtype='object')\n"
          ]
        }
      ]
    },
    {
      "cell_type": "code",
      "source": [
        "#Unit_Size_Sqft\n",
        "print('Total number of null values in Before:',df['Unit_Size_Sqft'].isnull().sum())\n",
        "df['Unit_Size_Sqft']=df['Unit_Size_Sqft'].fillna(df['Unit_Size_Sqft'].mean())\n",
        "\n",
        "df['Unit_Size_Sqft']=df['Unit_Size_Sqft'].astype(int)\n",
        "print('Total number of null values in After:',df['Unit_Size_Sqft'].isnull().sum())"
      ],
      "metadata": {
        "colab": {
          "base_uri": "https://localhost:8080/"
        },
        "id": "SDYdN1HmMegM",
        "outputId": "cfa2ef70-86bd-4935-ef4d-11198b1bb6ee"
      },
      "execution_count": 7,
      "outputs": [
        {
          "output_type": "stream",
          "name": "stdout",
          "text": [
            "Total number of null values in Before: 10046\n",
            "Total number of null values in After: 0\n"
          ]
        }
      ]
    },
    {
      "cell_type": "code",
      "source": [
        "#Configuration\n",
        "\n",
        "df.loc[:,'Configuration']=df['Configuration'].astype(str).str.upper()\n",
        "df['Configuration'].head(20)"
      ],
      "metadata": {
        "colab": {
          "base_uri": "https://localhost:8080/",
          "height": 711
        },
        "id": "PdZtbLc0N6dp",
        "outputId": "08711dbb-190c-4ea6-c8bb-a31ffab18d99"
      },
      "execution_count": 8,
      "outputs": [
        {
          "output_type": "execute_result",
          "data": {
            "text/plain": [
              "0      4BHK\n",
              "1      3BHK\n",
              "2      4BHK\n",
              "3      3BHK\n",
              "4      4BHK\n",
              "5      4BHK\n",
              "6     5BHK+\n",
              "7      3BHK\n",
              "8      3BHK\n",
              "9      4BHK\n",
              "10     4BHK\n",
              "11    5BHK+\n",
              "12    5BHK+\n",
              "13     3BHK\n",
              "14     4BHK\n",
              "15     4BHK\n",
              "16    5BHK+\n",
              "17     4BHK\n",
              "18    5BHK+\n",
              "19     3BHK\n",
              "Name: Configuration, dtype: object"
            ],
            "text/html": [
              "<div>\n",
              "<style scoped>\n",
              "    .dataframe tbody tr th:only-of-type {\n",
              "        vertical-align: middle;\n",
              "    }\n",
              "\n",
              "    .dataframe tbody tr th {\n",
              "        vertical-align: top;\n",
              "    }\n",
              "\n",
              "    .dataframe thead th {\n",
              "        text-align: right;\n",
              "    }\n",
              "</style>\n",
              "<table border=\"1\" class=\"dataframe\">\n",
              "  <thead>\n",
              "    <tr style=\"text-align: right;\">\n",
              "      <th></th>\n",
              "      <th>Configuration</th>\n",
              "    </tr>\n",
              "  </thead>\n",
              "  <tbody>\n",
              "    <tr>\n",
              "      <th>0</th>\n",
              "      <td>4BHK</td>\n",
              "    </tr>\n",
              "    <tr>\n",
              "      <th>1</th>\n",
              "      <td>3BHK</td>\n",
              "    </tr>\n",
              "    <tr>\n",
              "      <th>2</th>\n",
              "      <td>4BHK</td>\n",
              "    </tr>\n",
              "    <tr>\n",
              "      <th>3</th>\n",
              "      <td>3BHK</td>\n",
              "    </tr>\n",
              "    <tr>\n",
              "      <th>4</th>\n",
              "      <td>4BHK</td>\n",
              "    </tr>\n",
              "    <tr>\n",
              "      <th>5</th>\n",
              "      <td>4BHK</td>\n",
              "    </tr>\n",
              "    <tr>\n",
              "      <th>6</th>\n",
              "      <td>5BHK+</td>\n",
              "    </tr>\n",
              "    <tr>\n",
              "      <th>7</th>\n",
              "      <td>3BHK</td>\n",
              "    </tr>\n",
              "    <tr>\n",
              "      <th>8</th>\n",
              "      <td>3BHK</td>\n",
              "    </tr>\n",
              "    <tr>\n",
              "      <th>9</th>\n",
              "      <td>4BHK</td>\n",
              "    </tr>\n",
              "    <tr>\n",
              "      <th>10</th>\n",
              "      <td>4BHK</td>\n",
              "    </tr>\n",
              "    <tr>\n",
              "      <th>11</th>\n",
              "      <td>5BHK+</td>\n",
              "    </tr>\n",
              "    <tr>\n",
              "      <th>12</th>\n",
              "      <td>5BHK+</td>\n",
              "    </tr>\n",
              "    <tr>\n",
              "      <th>13</th>\n",
              "      <td>3BHK</td>\n",
              "    </tr>\n",
              "    <tr>\n",
              "      <th>14</th>\n",
              "      <td>4BHK</td>\n",
              "    </tr>\n",
              "    <tr>\n",
              "      <th>15</th>\n",
              "      <td>4BHK</td>\n",
              "    </tr>\n",
              "    <tr>\n",
              "      <th>16</th>\n",
              "      <td>5BHK+</td>\n",
              "    </tr>\n",
              "    <tr>\n",
              "      <th>17</th>\n",
              "      <td>4BHK</td>\n",
              "    </tr>\n",
              "    <tr>\n",
              "      <th>18</th>\n",
              "      <td>5BHK+</td>\n",
              "    </tr>\n",
              "    <tr>\n",
              "      <th>19</th>\n",
              "      <td>3BHK</td>\n",
              "    </tr>\n",
              "  </tbody>\n",
              "</table>\n",
              "</div><br><label><b>dtype:</b> object</label>"
            ]
          },
          "metadata": {},
          "execution_count": 8
        }
      ]
    },
    {
      "cell_type": "code",
      "source": [
        "#Ticket_Price_Cr\n",
        "#1. Clean up column: remove 'Cr' and '₹', convert to float\n",
        "\n",
        "df.loc[:,'Ticket_Price_Cr']=(df['Ticket_Price_Cr']\n",
        "                             .astype(str)\n",
        "                             .str.replace('Cr','',regex=False)\n",
        "                             .str.replace('₹', '', regex=False)\n",
        "                             .str.strip()\n",
        "                             .astype(float)\n",
        "                             )\n",
        "# 2. Convert to float (invalid strings → NaN automatically)\n",
        "df[\"Ticket_Price_Cr\"] = pd.to_numeric(df[\"Ticket_Price_Cr\"], errors=\"coerce\")\n",
        "\n",
        "# 3. Replace negative values with NaN\n",
        "df[\"Ticket_Price_Cr\"] = df[\"Ticket_Price_Cr\"].mask(df[\"Ticket_Price_Cr\"] <= 0, np.nan)\n",
        "\n",
        "# 4. Fill blanks (NaN) with column mean\n",
        "mean_value = df[\"Ticket_Price_Cr\"].mean(skipna=True)\n",
        "df[\"Ticket_Price_Cr\"] = df[\"Ticket_Price_Cr\"].fillna(mean_value)\n",
        "\n",
        "print('TTL no of null values',df['Ticket_Price_Cr'].isnull().sum())\n",
        "\n",
        "df['Ticket_Price_Cr'].head(28)"
      ],
      "metadata": {
        "colab": {
          "base_uri": "https://localhost:8080/",
          "height": 979
        },
        "id": "WUIGGFEOOg0o",
        "outputId": "ff664481-072f-4b8b-bbd5-9a5610bf327c"
      },
      "execution_count": 9,
      "outputs": [
        {
          "output_type": "stream",
          "name": "stdout",
          "text": [
            "TTL no of null values 0\n"
          ]
        },
        {
          "output_type": "execute_result",
          "data": {
            "text/plain": [
              "0     12.750846\n",
              "1     16.292152\n",
              "2     10.517724\n",
              "3      9.396367\n",
              "4     15.345392\n",
              "5      9.820000\n",
              "6     10.896752\n",
              "7      9.357539\n",
              "8     12.299449\n",
              "9      9.193310\n",
              "10    15.221824\n",
              "11     7.384787\n",
              "12    11.042463\n",
              "13    15.166285\n",
              "14    13.851563\n",
              "15    70.000000\n",
              "16     9.750865\n",
              "17     9.045290\n",
              "18     7.623657\n",
              "19     9.627966\n",
              "20    10.804415\n",
              "21     8.680000\n",
              "22     7.901275\n",
              "23    13.110000\n",
              "24    13.640000\n",
              "25    11.600772\n",
              "26    12.719066\n",
              "27    12.055118\n",
              "Name: Ticket_Price_Cr, dtype: float64"
            ],
            "text/html": [
              "<div>\n",
              "<style scoped>\n",
              "    .dataframe tbody tr th:only-of-type {\n",
              "        vertical-align: middle;\n",
              "    }\n",
              "\n",
              "    .dataframe tbody tr th {\n",
              "        vertical-align: top;\n",
              "    }\n",
              "\n",
              "    .dataframe thead th {\n",
              "        text-align: right;\n",
              "    }\n",
              "</style>\n",
              "<table border=\"1\" class=\"dataframe\">\n",
              "  <thead>\n",
              "    <tr style=\"text-align: right;\">\n",
              "      <th></th>\n",
              "      <th>Ticket_Price_Cr</th>\n",
              "    </tr>\n",
              "  </thead>\n",
              "  <tbody>\n",
              "    <tr>\n",
              "      <th>0</th>\n",
              "      <td>12.750846</td>\n",
              "    </tr>\n",
              "    <tr>\n",
              "      <th>1</th>\n",
              "      <td>16.292152</td>\n",
              "    </tr>\n",
              "    <tr>\n",
              "      <th>2</th>\n",
              "      <td>10.517724</td>\n",
              "    </tr>\n",
              "    <tr>\n",
              "      <th>3</th>\n",
              "      <td>9.396367</td>\n",
              "    </tr>\n",
              "    <tr>\n",
              "      <th>4</th>\n",
              "      <td>15.345392</td>\n",
              "    </tr>\n",
              "    <tr>\n",
              "      <th>5</th>\n",
              "      <td>9.820000</td>\n",
              "    </tr>\n",
              "    <tr>\n",
              "      <th>6</th>\n",
              "      <td>10.896752</td>\n",
              "    </tr>\n",
              "    <tr>\n",
              "      <th>7</th>\n",
              "      <td>9.357539</td>\n",
              "    </tr>\n",
              "    <tr>\n",
              "      <th>8</th>\n",
              "      <td>12.299449</td>\n",
              "    </tr>\n",
              "    <tr>\n",
              "      <th>9</th>\n",
              "      <td>9.193310</td>\n",
              "    </tr>\n",
              "    <tr>\n",
              "      <th>10</th>\n",
              "      <td>15.221824</td>\n",
              "    </tr>\n",
              "    <tr>\n",
              "      <th>11</th>\n",
              "      <td>7.384787</td>\n",
              "    </tr>\n",
              "    <tr>\n",
              "      <th>12</th>\n",
              "      <td>11.042463</td>\n",
              "    </tr>\n",
              "    <tr>\n",
              "      <th>13</th>\n",
              "      <td>15.166285</td>\n",
              "    </tr>\n",
              "    <tr>\n",
              "      <th>14</th>\n",
              "      <td>13.851563</td>\n",
              "    </tr>\n",
              "    <tr>\n",
              "      <th>15</th>\n",
              "      <td>70.000000</td>\n",
              "    </tr>\n",
              "    <tr>\n",
              "      <th>16</th>\n",
              "      <td>9.750865</td>\n",
              "    </tr>\n",
              "    <tr>\n",
              "      <th>17</th>\n",
              "      <td>9.045290</td>\n",
              "    </tr>\n",
              "    <tr>\n",
              "      <th>18</th>\n",
              "      <td>7.623657</td>\n",
              "    </tr>\n",
              "    <tr>\n",
              "      <th>19</th>\n",
              "      <td>9.627966</td>\n",
              "    </tr>\n",
              "    <tr>\n",
              "      <th>20</th>\n",
              "      <td>10.804415</td>\n",
              "    </tr>\n",
              "    <tr>\n",
              "      <th>21</th>\n",
              "      <td>8.680000</td>\n",
              "    </tr>\n",
              "    <tr>\n",
              "      <th>22</th>\n",
              "      <td>7.901275</td>\n",
              "    </tr>\n",
              "    <tr>\n",
              "      <th>23</th>\n",
              "      <td>13.110000</td>\n",
              "    </tr>\n",
              "    <tr>\n",
              "      <th>24</th>\n",
              "      <td>13.640000</td>\n",
              "    </tr>\n",
              "    <tr>\n",
              "      <th>25</th>\n",
              "      <td>11.600772</td>\n",
              "    </tr>\n",
              "    <tr>\n",
              "      <th>26</th>\n",
              "      <td>12.719066</td>\n",
              "    </tr>\n",
              "    <tr>\n",
              "      <th>27</th>\n",
              "      <td>12.055118</td>\n",
              "    </tr>\n",
              "  </tbody>\n",
              "</table>\n",
              "</div><br><label><b>dtype:</b> float64</label>"
            ]
          },
          "metadata": {},
          "execution_count": 9
        }
      ]
    },
    {
      "cell_type": "code",
      "source": [
        "#==========================Price_per_Sqft============================\n",
        "\n",
        "# 1. Price per sqft (₹ per sqft)\n",
        "\n",
        "df.loc[:,'Price_per_Sqft']=(df['Ticket_Price_Cr'] * 1e7/df['Unit_Size_Sqft']).round(2)\n",
        "df['Price_per_Sqft'].head()"
      ],
      "metadata": {
        "colab": {
          "base_uri": "https://localhost:8080/",
          "height": 241
        },
        "id": "je-BClb6Xm96",
        "outputId": "ae8a220a-9ed3-4072-859c-215b3d9501c7"
      },
      "execution_count": 10,
      "outputs": [
        {
          "output_type": "execute_result",
          "data": {
            "text/plain": [
              "0    31679.12\n",
              "1    28284.99\n",
              "2    13646.98\n",
              "3    15175.01\n",
              "4    21471.10\n",
              "Name: Price_per_Sqft, dtype: float64"
            ],
            "text/html": [
              "<div>\n",
              "<style scoped>\n",
              "    .dataframe tbody tr th:only-of-type {\n",
              "        vertical-align: middle;\n",
              "    }\n",
              "\n",
              "    .dataframe tbody tr th {\n",
              "        vertical-align: top;\n",
              "    }\n",
              "\n",
              "    .dataframe thead th {\n",
              "        text-align: right;\n",
              "    }\n",
              "</style>\n",
              "<table border=\"1\" class=\"dataframe\">\n",
              "  <thead>\n",
              "    <tr style=\"text-align: right;\">\n",
              "      <th></th>\n",
              "      <th>Price_per_Sqft</th>\n",
              "    </tr>\n",
              "  </thead>\n",
              "  <tbody>\n",
              "    <tr>\n",
              "      <th>0</th>\n",
              "      <td>31679.12</td>\n",
              "    </tr>\n",
              "    <tr>\n",
              "      <th>1</th>\n",
              "      <td>28284.99</td>\n",
              "    </tr>\n",
              "    <tr>\n",
              "      <th>2</th>\n",
              "      <td>13646.98</td>\n",
              "    </tr>\n",
              "    <tr>\n",
              "      <th>3</th>\n",
              "      <td>15175.01</td>\n",
              "    </tr>\n",
              "    <tr>\n",
              "      <th>4</th>\n",
              "      <td>21471.10</td>\n",
              "    </tr>\n",
              "  </tbody>\n",
              "</table>\n",
              "</div><br><label><b>dtype:</b> float64</label>"
            ]
          },
          "metadata": {},
          "execution_count": 10
        }
      ]
    },
    {
      "cell_type": "code",
      "source": [
        "#====Transaction_Type====\n",
        "\n",
        "print(df['Transaction_Type'].value_counts())"
      ],
      "metadata": {
        "colab": {
          "base_uri": "https://localhost:8080/"
        },
        "id": "793-Ge6ZYXJz",
        "outputId": "66c13166-bc28-494d-d7db-8d0b4db63a3d"
      },
      "execution_count": 11,
      "outputs": [
        {
          "output_type": "stream",
          "name": "stdout",
          "text": [
            "Transaction_Type\n",
            "Secondary    50506\n",
            "Primary      50494\n",
            "Name: count, dtype: int64\n"
          ]
        }
      ]
    },
    {
      "cell_type": "code",
      "source": [
        "#======================= Create Booking_Flag from Transaction_Type=======================\n",
        "# Let's assume Primary = booked (1), Secondary = not booked (0)\n",
        "df['Booking_Flag'] = df['Transaction_Type'].str.lower().map({'primary': 1, 'secondary': 0})\n",
        "print(df['Booking_Flag'])\n"
      ],
      "metadata": {
        "colab": {
          "base_uri": "https://localhost:8080/"
        },
        "id": "rfoZdlhPYLLL",
        "outputId": "2cf34f42-909d-40bd-863a-3bac1b936a1f"
      },
      "execution_count": 12,
      "outputs": [
        {
          "output_type": "stream",
          "name": "stdout",
          "text": [
            "0         1\n",
            "1         1\n",
            "2         1\n",
            "3         1\n",
            "4         0\n",
            "         ..\n",
            "100995    0\n",
            "100996    1\n",
            "100997    1\n",
            "100998    0\n",
            "100999    1\n",
            "Name: Booking_Flag, Length: 101000, dtype: int64\n"
          ]
        }
      ]
    },
    {
      "cell_type": "code",
      "source": [
        "#======Purchase_Quarter==============\n",
        "\n",
        "# 1. Convert to datetime (coerce invalid → NaT)\n",
        "df['Purchase_Quarter'] = pd.to_datetime(df['Purchase_Quarter'], errors='coerce')\n",
        "\n",
        "# 2. Extract quarter number (1–4), replace NaT with 0\n",
        "df['Quarter_Number'] = (\n",
        "    df['Purchase_Quarter']\n",
        "    .dt.quarter\n",
        "    .fillna(0)\n",
        "    .astype(int)\n",
        ")\n",
        "\n",
        "print(df['Quarter_Number'].value_counts())\n"
      ],
      "metadata": {
        "colab": {
          "base_uri": "https://localhost:8080/"
        },
        "id": "A5MmrHt9ZDKE",
        "outputId": "771c5e30-5b2a-4702-d84d-a86cbc436e5d"
      },
      "execution_count": 13,
      "outputs": [
        {
          "output_type": "stream",
          "name": "stdout",
          "text": [
            "Quarter_Number\n",
            "3    25301\n",
            "1    25281\n",
            "2    25263\n",
            "4    25155\n",
            "Name: count, dtype: int64\n"
          ]
        }
      ]
    },
    {
      "cell_type": "code",
      "source": [
        "#===========Connectitivity=============\n",
        "\n",
        "df['Connectivity_Score']=df['Connectivity_Score'].round(2)\n",
        "print(df['Connectivity_Score'])"
      ],
      "metadata": {
        "colab": {
          "base_uri": "https://localhost:8080/"
        },
        "id": "q91UQ9jxZGsY",
        "outputId": "b2359777-744e-4fed-ded4-8a00f6ddf35f"
      },
      "execution_count": 14,
      "outputs": [
        {
          "output_type": "stream",
          "name": "stdout",
          "text": [
            "0         7.99\n",
            "1         4.84\n",
            "2         8.13\n",
            "3         7.50\n",
            "4         4.53\n",
            "          ... \n",
            "100995    8.55\n",
            "100996    6.88\n",
            "100997    6.75\n",
            "100998    4.44\n",
            "100999    7.76\n",
            "Name: Connectivity_Score, Length: 101000, dtype: float64\n"
          ]
        }
      ]
    },
    {
      "cell_type": "code",
      "source": [
        "#=================Amenity_Score=================\n",
        "\n",
        "df.loc[:, 'Amenity_Score'] = df.groupby('Micro_Market')['Amenity_Score'].transform(lambda x: x.fillna(x.mean()))\n",
        "df['Amenity_Score']=df['Amenity_Score'].round(2)\n",
        "\n",
        "print('Total number of null values in Amenity_score column is ', df['Amenity_Score'].isnull().sum())\n",
        "print(df['Amenity_Score'])"
      ],
      "metadata": {
        "colab": {
          "base_uri": "https://localhost:8080/"
        },
        "id": "qbkKggpYZUhw",
        "outputId": "9007549d-6b16-4438-a29e-e119e09381ae"
      },
      "execution_count": 15,
      "outputs": [
        {
          "output_type": "stream",
          "name": "stdout",
          "text": [
            "Total number of null values in Amenity_score column is  0\n",
            "0         5.46\n",
            "1         7.53\n",
            "2         8.67\n",
            "3         5.72\n",
            "4         8.61\n",
            "          ... \n",
            "100995    6.22\n",
            "100996    9.78\n",
            "100997    8.38\n",
            "100998    5.76\n",
            "100999    9.99\n",
            "Name: Amenity_Score, Length: 101000, dtype: float64\n"
          ]
        }
      ]
    },
    {
      "cell_type": "code",
      "source": [
        "df['NRI_Buyer']=df['NRI_Buyer'].map({'yes':True, 'no':False})\n"
      ],
      "metadata": {
        "id": "C6mj9lsdZ15l"
      },
      "execution_count": 16,
      "outputs": []
    },
    {
      "cell_type": "code",
      "source": [
        "#==============Buyer_Comments==============\n",
        "\n",
        "df.loc[:,'Buyer_Comments']=df['Buyer_Comments'].fillna('No Commands')\n",
        "#print(df['Buyer_Comments'])\n",
        "print('TTL no of null values', df['Buyer_Comments'].isnull().sum())\n",
        "\n"
      ],
      "metadata": {
        "colab": {
          "base_uri": "https://localhost:8080/"
        },
        "id": "bMawMefWZUV_",
        "outputId": "60901d7a-17eb-45fd-98bf-7fa946fe9d8f"
      },
      "execution_count": 17,
      "outputs": [
        {
          "output_type": "stream",
          "name": "stdout",
          "text": [
            "TTL no of null values 0\n"
          ]
        }
      ]
    },
    {
      "cell_type": "code",
      "source": [
        "df.isnull().sum()\n"
      ],
      "metadata": {
        "colab": {
          "base_uri": "https://localhost:8080/",
          "height": 742
        },
        "id": "Dfn0F_SdagGN",
        "outputId": "0eb2c889-6155-419a-c475-9cc87d63f4e7"
      },
      "execution_count": 18,
      "outputs": [
        {
          "output_type": "execute_result",
          "data": {
            "text/plain": [
              "Property_ID             0\n",
              "Micro_Market            0\n",
              "Project_Name            0\n",
              "Builder                 0\n",
              "Unit_Size_Sqft          0\n",
              "Configuration           0\n",
              "Ticket_Price_Cr         0\n",
              "Transaction_Type        0\n",
              "Buyer_Type              0\n",
              "Purchase_Quarter        0\n",
              "Connectivity_Score      0\n",
              "Amenity_Score           0\n",
              "Possession_Status       0\n",
              "Sales_Channel           0\n",
              "NRI_Buyer               0\n",
              "Locality_Infra_Score    0\n",
              "Avg_Traffic_Time_Min    0\n",
              "Buyer_Comments          0\n",
              "Price_per_Sqft          0\n",
              "Booking_Flag            0\n",
              "Quarter_Number          0\n",
              "dtype: int64"
            ],
            "text/html": [
              "<div>\n",
              "<style scoped>\n",
              "    .dataframe tbody tr th:only-of-type {\n",
              "        vertical-align: middle;\n",
              "    }\n",
              "\n",
              "    .dataframe tbody tr th {\n",
              "        vertical-align: top;\n",
              "    }\n",
              "\n",
              "    .dataframe thead th {\n",
              "        text-align: right;\n",
              "    }\n",
              "</style>\n",
              "<table border=\"1\" class=\"dataframe\">\n",
              "  <thead>\n",
              "    <tr style=\"text-align: right;\">\n",
              "      <th></th>\n",
              "      <th>0</th>\n",
              "    </tr>\n",
              "  </thead>\n",
              "  <tbody>\n",
              "    <tr>\n",
              "      <th>Property_ID</th>\n",
              "      <td>0</td>\n",
              "    </tr>\n",
              "    <tr>\n",
              "      <th>Micro_Market</th>\n",
              "      <td>0</td>\n",
              "    </tr>\n",
              "    <tr>\n",
              "      <th>Project_Name</th>\n",
              "      <td>0</td>\n",
              "    </tr>\n",
              "    <tr>\n",
              "      <th>Builder</th>\n",
              "      <td>0</td>\n",
              "    </tr>\n",
              "    <tr>\n",
              "      <th>Unit_Size_Sqft</th>\n",
              "      <td>0</td>\n",
              "    </tr>\n",
              "    <tr>\n",
              "      <th>Configuration</th>\n",
              "      <td>0</td>\n",
              "    </tr>\n",
              "    <tr>\n",
              "      <th>Ticket_Price_Cr</th>\n",
              "      <td>0</td>\n",
              "    </tr>\n",
              "    <tr>\n",
              "      <th>Transaction_Type</th>\n",
              "      <td>0</td>\n",
              "    </tr>\n",
              "    <tr>\n",
              "      <th>Buyer_Type</th>\n",
              "      <td>0</td>\n",
              "    </tr>\n",
              "    <tr>\n",
              "      <th>Purchase_Quarter</th>\n",
              "      <td>0</td>\n",
              "    </tr>\n",
              "    <tr>\n",
              "      <th>Connectivity_Score</th>\n",
              "      <td>0</td>\n",
              "    </tr>\n",
              "    <tr>\n",
              "      <th>Amenity_Score</th>\n",
              "      <td>0</td>\n",
              "    </tr>\n",
              "    <tr>\n",
              "      <th>Possession_Status</th>\n",
              "      <td>0</td>\n",
              "    </tr>\n",
              "    <tr>\n",
              "      <th>Sales_Channel</th>\n",
              "      <td>0</td>\n",
              "    </tr>\n",
              "    <tr>\n",
              "      <th>NRI_Buyer</th>\n",
              "      <td>0</td>\n",
              "    </tr>\n",
              "    <tr>\n",
              "      <th>Locality_Infra_Score</th>\n",
              "      <td>0</td>\n",
              "    </tr>\n",
              "    <tr>\n",
              "      <th>Avg_Traffic_Time_Min</th>\n",
              "      <td>0</td>\n",
              "    </tr>\n",
              "    <tr>\n",
              "      <th>Buyer_Comments</th>\n",
              "      <td>0</td>\n",
              "    </tr>\n",
              "    <tr>\n",
              "      <th>Price_per_Sqft</th>\n",
              "      <td>0</td>\n",
              "    </tr>\n",
              "    <tr>\n",
              "      <th>Booking_Flag</th>\n",
              "      <td>0</td>\n",
              "    </tr>\n",
              "    <tr>\n",
              "      <th>Quarter_Number</th>\n",
              "      <td>0</td>\n",
              "    </tr>\n",
              "  </tbody>\n",
              "</table>\n",
              "</div><br><label><b>dtype:</b> int64</label>"
            ]
          },
          "metadata": {},
          "execution_count": 18
        }
      ]
    },
    {
      "cell_type": "code",
      "source": [
        "df.duplicated().sum()"
      ],
      "metadata": {
        "colab": {
          "base_uri": "https://localhost:8080/"
        },
        "id": "I881W49EajMY",
        "outputId": "e585bc96-6dc4-4b27-8898-efad81bc06ac"
      },
      "execution_count": 19,
      "outputs": [
        {
          "output_type": "execute_result",
          "data": {
            "text/plain": [
              "np.int64(1000)"
            ]
          },
          "metadata": {},
          "execution_count": 19
        }
      ]
    },
    {
      "cell_type": "code",
      "source": [
        "df.drop_duplicates(inplace= True)"
      ],
      "metadata": {
        "id": "c5j9Be5Baov3"
      },
      "execution_count": 20,
      "outputs": []
    },
    {
      "cell_type": "code",
      "source": [
        "df.duplicated().sum()"
      ],
      "metadata": {
        "colab": {
          "base_uri": "https://localhost:8080/"
        },
        "id": "ZJlaaGE6au7Y",
        "outputId": "b5a9af97-2b45-4f23-8ab7-aab403197a7e"
      },
      "execution_count": 21,
      "outputs": [
        {
          "output_type": "execute_result",
          "data": {
            "text/plain": [
              "np.int64(0)"
            ]
          },
          "metadata": {},
          "execution_count": 21
        }
      ]
    },
    {
      "cell_type": "code",
      "source": [
        "df.dtypes"
      ],
      "metadata": {
        "colab": {
          "base_uri": "https://localhost:8080/",
          "height": 742
        },
        "id": "Dwe7YVSXa4UI",
        "outputId": "fe64adc6-9257-4d36-f04a-085ad19ce348"
      },
      "execution_count": 22,
      "outputs": [
        {
          "output_type": "execute_result",
          "data": {
            "text/plain": [
              "Property_ID                     object\n",
              "Micro_Market                    object\n",
              "Project_Name                    object\n",
              "Builder                         object\n",
              "Unit_Size_Sqft                   int64\n",
              "Configuration                   object\n",
              "Ticket_Price_Cr                float64\n",
              "Transaction_Type                object\n",
              "Buyer_Type                      object\n",
              "Purchase_Quarter        datetime64[ns]\n",
              "Connectivity_Score             float64\n",
              "Amenity_Score                  float64\n",
              "Possession_Status               object\n",
              "Sales_Channel                   object\n",
              "NRI_Buyer                         bool\n",
              "Locality_Infra_Score           float64\n",
              "Avg_Traffic_Time_Min             int64\n",
              "Buyer_Comments                  object\n",
              "Price_per_Sqft                 float64\n",
              "Booking_Flag                     int64\n",
              "Quarter_Number                   int64\n",
              "dtype: object"
            ],
            "text/html": [
              "<div>\n",
              "<style scoped>\n",
              "    .dataframe tbody tr th:only-of-type {\n",
              "        vertical-align: middle;\n",
              "    }\n",
              "\n",
              "    .dataframe tbody tr th {\n",
              "        vertical-align: top;\n",
              "    }\n",
              "\n",
              "    .dataframe thead th {\n",
              "        text-align: right;\n",
              "    }\n",
              "</style>\n",
              "<table border=\"1\" class=\"dataframe\">\n",
              "  <thead>\n",
              "    <tr style=\"text-align: right;\">\n",
              "      <th></th>\n",
              "      <th>0</th>\n",
              "    </tr>\n",
              "  </thead>\n",
              "  <tbody>\n",
              "    <tr>\n",
              "      <th>Property_ID</th>\n",
              "      <td>object</td>\n",
              "    </tr>\n",
              "    <tr>\n",
              "      <th>Micro_Market</th>\n",
              "      <td>object</td>\n",
              "    </tr>\n",
              "    <tr>\n",
              "      <th>Project_Name</th>\n",
              "      <td>object</td>\n",
              "    </tr>\n",
              "    <tr>\n",
              "      <th>Builder</th>\n",
              "      <td>object</td>\n",
              "    </tr>\n",
              "    <tr>\n",
              "      <th>Unit_Size_Sqft</th>\n",
              "      <td>int64</td>\n",
              "    </tr>\n",
              "    <tr>\n",
              "      <th>Configuration</th>\n",
              "      <td>object</td>\n",
              "    </tr>\n",
              "    <tr>\n",
              "      <th>Ticket_Price_Cr</th>\n",
              "      <td>float64</td>\n",
              "    </tr>\n",
              "    <tr>\n",
              "      <th>Transaction_Type</th>\n",
              "      <td>object</td>\n",
              "    </tr>\n",
              "    <tr>\n",
              "      <th>Buyer_Type</th>\n",
              "      <td>object</td>\n",
              "    </tr>\n",
              "    <tr>\n",
              "      <th>Purchase_Quarter</th>\n",
              "      <td>datetime64[ns]</td>\n",
              "    </tr>\n",
              "    <tr>\n",
              "      <th>Connectivity_Score</th>\n",
              "      <td>float64</td>\n",
              "    </tr>\n",
              "    <tr>\n",
              "      <th>Amenity_Score</th>\n",
              "      <td>float64</td>\n",
              "    </tr>\n",
              "    <tr>\n",
              "      <th>Possession_Status</th>\n",
              "      <td>object</td>\n",
              "    </tr>\n",
              "    <tr>\n",
              "      <th>Sales_Channel</th>\n",
              "      <td>object</td>\n",
              "    </tr>\n",
              "    <tr>\n",
              "      <th>NRI_Buyer</th>\n",
              "      <td>bool</td>\n",
              "    </tr>\n",
              "    <tr>\n",
              "      <th>Locality_Infra_Score</th>\n",
              "      <td>float64</td>\n",
              "    </tr>\n",
              "    <tr>\n",
              "      <th>Avg_Traffic_Time_Min</th>\n",
              "      <td>int64</td>\n",
              "    </tr>\n",
              "    <tr>\n",
              "      <th>Buyer_Comments</th>\n",
              "      <td>object</td>\n",
              "    </tr>\n",
              "    <tr>\n",
              "      <th>Price_per_Sqft</th>\n",
              "      <td>float64</td>\n",
              "    </tr>\n",
              "    <tr>\n",
              "      <th>Booking_Flag</th>\n",
              "      <td>int64</td>\n",
              "    </tr>\n",
              "    <tr>\n",
              "      <th>Quarter_Number</th>\n",
              "      <td>int64</td>\n",
              "    </tr>\n",
              "  </tbody>\n",
              "</table>\n",
              "</div><br><label><b>dtype:</b> object</label>"
            ]
          },
          "metadata": {},
          "execution_count": 22
        }
      ]
    },
    {
      "cell_type": "code",
      "source": [
        "df.columns\n"
      ],
      "metadata": {
        "colab": {
          "base_uri": "https://localhost:8080/"
        },
        "id": "sXT6El8RdClr",
        "outputId": "6c143408-98ac-4e62-9191-99e1b055a505"
      },
      "execution_count": 23,
      "outputs": [
        {
          "output_type": "execute_result",
          "data": {
            "text/plain": [
              "Index(['Property_ID', 'Micro_Market', 'Project_Name', 'Builder',\n",
              "       'Unit_Size_Sqft', 'Configuration', 'Ticket_Price_Cr',\n",
              "       'Transaction_Type', 'Buyer_Type', 'Purchase_Quarter',\n",
              "       'Connectivity_Score', 'Amenity_Score', 'Possession_Status',\n",
              "       'Sales_Channel', 'NRI_Buyer', 'Locality_Infra_Score',\n",
              "       'Avg_Traffic_Time_Min', 'Buyer_Comments', 'Price_per_Sqft',\n",
              "       'Booking_Flag', 'Quarter_Number'],\n",
              "      dtype='object')"
            ]
          },
          "metadata": {},
          "execution_count": 23
        }
      ]
    },
    {
      "cell_type": "code",
      "source": [
        "df['Possession_Status']"
      ],
      "metadata": {
        "colab": {
          "base_uri": "https://localhost:8080/",
          "height": 458
        },
        "id": "R9NBWzcMoUwa",
        "outputId": "807cfe31-b5f3-457f-e90b-b25aa20b69ee"
      },
      "execution_count": 24,
      "outputs": [
        {
          "output_type": "execute_result",
          "data": {
            "text/plain": [
              "0                    Launch\n",
              "1        Under construction\n",
              "2             Ready to move\n",
              "3             Ready to move\n",
              "4        Under construction\n",
              "                ...        \n",
              "99995    Under construction\n",
              "99996                Launch\n",
              "99997                Launch\n",
              "99998    Under construction\n",
              "99999                Launch\n",
              "Name: Possession_Status, Length: 100000, dtype: object"
            ],
            "text/html": [
              "<div>\n",
              "<style scoped>\n",
              "    .dataframe tbody tr th:only-of-type {\n",
              "        vertical-align: middle;\n",
              "    }\n",
              "\n",
              "    .dataframe tbody tr th {\n",
              "        vertical-align: top;\n",
              "    }\n",
              "\n",
              "    .dataframe thead th {\n",
              "        text-align: right;\n",
              "    }\n",
              "</style>\n",
              "<table border=\"1\" class=\"dataframe\">\n",
              "  <thead>\n",
              "    <tr style=\"text-align: right;\">\n",
              "      <th></th>\n",
              "      <th>Possession_Status</th>\n",
              "    </tr>\n",
              "  </thead>\n",
              "  <tbody>\n",
              "    <tr>\n",
              "      <th>0</th>\n",
              "      <td>Launch</td>\n",
              "    </tr>\n",
              "    <tr>\n",
              "      <th>1</th>\n",
              "      <td>Under construction</td>\n",
              "    </tr>\n",
              "    <tr>\n",
              "      <th>2</th>\n",
              "      <td>Ready to move</td>\n",
              "    </tr>\n",
              "    <tr>\n",
              "      <th>3</th>\n",
              "      <td>Ready to move</td>\n",
              "    </tr>\n",
              "    <tr>\n",
              "      <th>4</th>\n",
              "      <td>Under construction</td>\n",
              "    </tr>\n",
              "    <tr>\n",
              "      <th>...</th>\n",
              "      <td>...</td>\n",
              "    </tr>\n",
              "    <tr>\n",
              "      <th>99995</th>\n",
              "      <td>Under construction</td>\n",
              "    </tr>\n",
              "    <tr>\n",
              "      <th>99996</th>\n",
              "      <td>Launch</td>\n",
              "    </tr>\n",
              "    <tr>\n",
              "      <th>99997</th>\n",
              "      <td>Launch</td>\n",
              "    </tr>\n",
              "    <tr>\n",
              "      <th>99998</th>\n",
              "      <td>Under construction</td>\n",
              "    </tr>\n",
              "    <tr>\n",
              "      <th>99999</th>\n",
              "      <td>Launch</td>\n",
              "    </tr>\n",
              "  </tbody>\n",
              "</table>\n",
              "<p>100000 rows × 1 columns</p>\n",
              "</div><br><label><b>dtype:</b> object</label>"
            ]
          },
          "metadata": {},
          "execution_count": 24
        }
      ]
    },
    {
      "cell_type": "code",
      "source": [
        "\n",
        "# Count frequency of each configuration\n",
        "counts = df[\"Configuration\"].value_counts()\n",
        "\n",
        "# --- Donut Chart ---\n",
        "plt.figure(figsize=(6,6))\n",
        "wedges, texts, autotexts = plt.pie(\n",
        "    counts,\n",
        "    labels=counts.index,\n",
        "    autopct='%1.1f%%',\n",
        "    startangle=90,\n",
        "    wedgeprops=dict(width=0.4)  # <-- creates the \"donut hole\"\n",
        ")\n",
        "\n",
        "# Add title\n",
        "plt.title(\"Most In-Demand Housing Configurations\")\n",
        "\n",
        "# Add a white circle in the middle (for a cleaner donut look)\n",
        "centre_circle = plt.Circle((0,0),0.70,fc='white')\n",
        "fig = plt.gcf()\n",
        "fig.gca().add_artist(centre_circle)\n",
        "\n",
        "plt.show()\n"
      ],
      "metadata": {
        "colab": {
          "base_uri": "https://localhost:8080/",
          "height": 521
        },
        "id": "39bz-zUDaLqu",
        "outputId": "c47457cd-8918-47e0-c8c3-c1498a723324"
      },
      "execution_count": 25,
      "outputs": [
        {
          "output_type": "display_data",
          "data": {
            "text/plain": [
              "<Figure size 600x600 with 1 Axes>"
            ],
            "image/png": "[encoded data removed]"
          },
          "metadata": {}
        }
      ]
    },
    {
      "cell_type": "code",
      "source": [
        "list_of_columns=list(df.columns)\n",
        "print(list_of_columns)"
      ],
      "metadata": {
        "colab": {
          "base_uri": "https://localhost:8080/"
        },
        "id": "M-CwmrSKj_gh",
        "outputId": "a4212d06-ec6a-4ce3-c616-d17d65d649ef"
      },
      "execution_count": 38,
      "outputs": [
        {
          "output_type": "stream",
          "name": "stdout",
          "text": [
            "['Property_ID', 'Micro_Market', 'Project_Name', 'Builder', 'Unit_Size_Sqft', 'Configuration', 'Ticket_Price_Cr', 'Transaction_Type', 'Buyer_Type', 'Purchase_Quarter', 'Connectivity_Score', 'Amenity_Score', 'Possession_Status', 'Sales_Channel', 'NRI_Buyer', 'Locality_Infra_Score', 'Avg_Traffic_Time_Min', 'Buyer_Comments', 'Price_per_Sqft', 'Booking_Flag', 'Quarter_Number']\n"
          ]
        }
      ]
    },
    {
      "cell_type": "code",
      "source": [],
      "metadata": {
        "id": "Lx5k1CJWpcnr"
      },
      "execution_count": null,
      "outputs": []
    }
  ]
}